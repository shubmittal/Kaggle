{
 "cells": [
  {
   "cell_type": "markdown",
   "metadata": {},
   "source": [
    "# Normalize or Scale?\n",
    "            You want to build a linear regression model to predict someone's grades given how much time they spend on various activities during a normal school week. You notice that your measurements for how much time students spend studying aren't normally distributed: some students spend almost no time studying and others study for four or more hours every day. Should you scale or normalize this variable? : Normalize\n",
    "            You're still working on your grades study, but you want to include information on how students perform on several fitness tests as well. You have information on how many jumping jacks and push-ups each student can complete in a minute. However, you notice that students perform far more jumping jacks than push-ups: the average for the former is 40, and for the latter only 10. Should you scale or normalize these variables? Scale: as we are not comparing two features which have different scales"
   ]
  },
  {
   "cell_type": "code",
   "execution_count": 11,
   "metadata": {},
   "outputs": [],
   "source": [
    "import pandas as pd;\n",
    "import numpy as np;\n",
    "\n",
    "#for box-xoc transformation: This is a lib for normalizing values\n",
    "from scipy import stats;\n",
    "\n",
    "#for min max scaling.. \n",
    "from mlxtend.preprocessing import minmax_scaling\n",
    "\n",
    "#plotting/ graphical representations\n",
    "\n",
    "import seaborn as sns\n",
    "import matplotlib.pyplot as plt\n",
    "\n",
    "#set seed for random numbers\n",
    "np.random.seed(0);\n",
    "\n",
    "\n",
    " "
   ]
  },
  {
   "cell_type": "code",
   "execution_count": null,
   "metadata": {},
   "outputs": [],
   "source": [
    "#import data\n",
    "kickstarters_2018 = pd.read_csv(\"ks-projects-201801.csv\")"
   ]
  },
  {
   "cell_type": "code",
   "execution_count": null,
   "metadata": {},
   "outputs": [],
   "source": [
    "goal = kickstarters_2018.goal\n",
    "\n",
    "scaled_goaldata  = minmax_scaling(goal, columns =[0]);\n",
    "\n",
    "fig, ax = plt.subplots(1,2)\n",
    "\n",
    "sns.distplot(goal, ax= ax[0]);\n",
    "ax[0].set_title(\"Original Data\")\n",
    "\n",
    "sns.distplot(scaled_goaldata, ax= ax[1])\n",
    "ax[1].set_title(\"Scaled Data\")\n"
   ]
  },
  {
   "cell_type": "markdown",
   "metadata": {},
   "source": [
    "   # Practice normalization\n",
    " "
   ]
  },
  {
   "cell_type": "code",
   "execution_count": null,
   "metadata": {},
   "outputs": [],
   "source": [
    "#Note that pledged is a nice candidate for normalization as it goes from 0 to alll the way upto 20338986.27\n",
    "\n",
    "# get the index of all positive pledges (Box-Cox only takes postive values)\n",
    "index_of_positive_pledges = kickstarters_2017.pledged > 0\n",
    "\n",
    "# get only positive pledges (using their indexes)\n",
    "positive_pledges = kickstarters_2017.pledged.loc[index_of_positive_pledges]\n",
    "\n",
    "# normalize the pledges (w/ Box-Cox)\n",
    "normalized_pledges = stats.boxcox(positive_pledges)[0]\n",
    "\n",
    "# plot both together to compare\n",
    "fig, ax=plt.subplots(1,2)\n",
    "sns.distplot(positive_pledges, ax=ax[0])\n",
    "ax[0].set_title(\"Original Data\")\n",
    "sns.distplot(normalized_pledges, ax=ax[1])\n",
    "ax[1].set_title(\"Normalized data\")"
   ]
  },
  {
   "cell_type": "markdown",
   "metadata": {},
   "source": [
    "# More practice!\n",
    "\n",
    "Try finding a new dataset and pretend you're preparing to preform a regression analysis. (These datasets are a good start!) Pick three or four variables and decide if you need to normalize or scale any of them and, if you think you should, practice applying the correct technique.\n",
    "\n",
    "https://www.kaggle.com/rtatman/datasets-for-regression-analysis"
   ]
  }
 ],
 "metadata": {
  "kernelspec": {
   "display_name": "Python 3.6",
   "language": "python",
   "name": "python36"
  },
  "language_info": {
   "codemirror_mode": {
    "name": "ipython",
    "version": 3
   },
   "file_extension": ".py",
   "mimetype": "text/x-python",
   "name": "python",
   "nbconvert_exporter": "python",
   "pygments_lexer": "ipython3",
   "version": "3.6.3"
  }
 },
 "nbformat": 4,
 "nbformat_minor": 2
}
